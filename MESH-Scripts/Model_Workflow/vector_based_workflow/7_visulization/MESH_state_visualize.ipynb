{
 "cells": [
  {
   "attachments": {},
   "cell_type": "markdown",
   "metadata": {},
   "source": [
    "# Visualize State Variables\n",
    "The purpose of this program is to read the MESH model state and visualize the output along with MeritHydro catchment shape file \n",
    "\n",
    "#### Programmers\n",
    "Ala Bahrami\n",
    "Cooper Albano\n",
    "#### Revision History\n",
    "2022/09/29 -- Initial version created and posted online <br>\n",
    "2023/01/11 -- Bugfix. Previous version plotted only a single subbasin for most GRUs <br>\n",
    "2023/01/11 -- Added .gif output<br>"
   ]
  },
  {
   "attachments": {},
   "cell_type": "markdown",
   "metadata": {},
   "source": [
    "### Load Modules"
   ]
  },
  {
   "cell_type": "code",
   "execution_count": 1,
   "metadata": {},
   "outputs": [],
   "source": [
    "import xarray as xs\n",
    "import geopandas as gpd\n",
    "import pandas as pd\n",
    "import numpy as np\n",
    "import matplotlib\n",
    "import matplotlib.pyplot as plt\n",
    "import matplotlib.colors as colors\n",
    "import imageio\n",
    "import os\n",
    "from pathlib import Path"
   ]
  },
  {
   "attachments": {},
   "cell_type": "markdown",
   "metadata": {},
   "source": [
    "### Control File Handling"
   ]
  },
  {
   "attachments": {},
   "cell_type": "markdown",
   "metadata": {},
   "source": [
    "##### Access the control file folder"
   ]
  },
  {
   "cell_type": "code",
   "execution_count": 2,
   "metadata": {},
   "outputs": [],
   "source": [
    "controlFolder = Path('../0_control_files')"
   ]
  },
  {
   "attachments": {},
   "cell_type": "markdown",
   "metadata": {},
   "source": [
    "##### Store the name of the 'active' file in a variable"
   ]
  },
  {
   "cell_type": "code",
   "execution_count": 3,
   "metadata": {},
   "outputs": [],
   "source": [
    "controlFile = 'control_active.txt'"
   ]
  },
  {
   "attachments": {},
   "cell_type": "markdown",
   "metadata": {},
   "source": [
    "##### Function to extract a given setting from the control file"
   ]
  },
  {
   "cell_type": "code",
   "execution_count": 4,
   "metadata": {},
   "outputs": [],
   "source": [
    "def read_from_control( file, setting ):\n",
    "     \n",
    "    # Open 'control_active.txt' and ...\n",
    "    with open(file) as contents:\n",
    "        for line in contents:\n",
    "             \n",
    "            # ... find the line with the requested setting\n",
    "            if setting in line and not line.startswith('#'):\n",
    "                break\n",
    "     \n",
    "    # Extract the setting's value\n",
    "    substring = line.split('|',1)[1]      # Remove the setting's name (split into 2 based on '|', keep only 2nd part)\n",
    "    substring = substring.split('#',1)[0] # Remove comments, does nothing if no '#' is found\n",
    "    substring = substring.strip()         # Remove leading and trailing whitespace, tabs, newlines\n",
    "        \n",
    "    # Return this value   \n",
    "    return substring"
   ]
  },
  {
   "attachments": {},
   "cell_type": "markdown",
   "metadata": {},
   "source": [
    "##### Function to specify a default path"
   ]
  },
  {
   "cell_type": "code",
   "execution_count": 5,
   "metadata": {},
   "outputs": [],
   "source": [
    "def make_default_path(suffix):\n",
    "     \n",
    "    # Get the root path\n",
    "    rootPath = Path( read_from_control(controlFolder/controlFile,'root_path') )\n",
    "     \n",
    "     \n",
    "    # Specify the forcing path\n",
    "    defaultPath = rootPath / suffix\n",
    "     \n",
    "    return defaultPath"
   ]
  },
  {
   "attachments": {},
   "cell_type": "markdown",
   "metadata": {},
   "source": [
    "##### Get the domain name"
   ]
  },
  {
   "cell_type": "code",
   "execution_count": 6,
   "metadata": {},
   "outputs": [],
   "source": [
    "rootPath = Path( read_from_control(controlFolder/controlFile,'root_path') )\n",
    "domainName = read_from_control(controlFolder/controlFile,'domain_name')"
   ]
  },
  {
   "attachments": {},
   "cell_type": "markdown",
   "metadata": {},
   "source": [
    "##### Get the inputs"
   ]
  },
  {
   "cell_type": "code",
   "execution_count": 7,
   "metadata": {},
   "outputs": [],
   "source": [
    "# Get the directory containing the MESH results \n",
    "MESH_state_dir           = read_from_control(controlFolder/controlFile,'simulation_path')\n",
    "if MESH_state_dir == 'default':\n",
    "    MESH_state_dir = make_default_path('vector_based_workflow/6_model_runs/results/')\n",
    "else:\n",
    "    MESH_state_dir = MESH_state_dir\n",
    "\n",
    "# Specify the output folder\n",
    "outdir = read_from_control(controlFolder/controlFile,'visualization_folder')\n",
    "if outdir == 'default':\n",
    "    outdir = make_default_path('vector_based_workflow/workflow_data/domain_{}/visualizations/'.format(domainName))\n",
    "else:\n",
    "    outdir = outdir\n",
    "\n",
    "# Specify the basin shapefile location\n",
    "Merit_catchment_shape_path = read_from_control(controlFolder/controlFile,'visualization_folder')\n",
    "if Merit_catchment_shape_path == 'default':\n",
    "    Merit_catchment_shape_path = make_default_path('shapefiles/catchment/')\n",
    "else:\n",
    "    Merit_catchment_shape_path = Merit_catchment_shape_path\n",
    "\n",
    "Merit_catchment_shape_name = read_from_control(controlFolder/controlFile,'river_basin_shp_name')\n",
    "Merit_catchment_shape = Merit_catchment_shape_path/Merit_catchment_shape_name\n",
    "\n",
    "# Read drainage database location\n",
    "DDB_path = read_from_control(controlFolder/controlFile,'DDB_output_dir')\n",
    "if DDB_path == 'default':\n",
    "    DDB_path =  make_default_path('vector_based_workflow/workflow_data/domain_{}/drainagedatabase/'.format(domainName))\n",
    "else:\n",
    "    DDB_path = DDB_path\n",
    "\n",
    "# Specify the visualization mode\n",
    "mode = read_from_control(controlFolder/controlFile,'vis_mode')\n",
    "mode_short = mode[0].upper()\n",
    "\n",
    "soilLayers = read_from_control(controlFolder/controlFile,'soilLayers')\n",
    "\n",
    "state_name = []\n",
    "var        = []"
   ]
  },
  {
   "cell_type": "code",
   "execution_count": 8,
   "metadata": {},
   "outputs": [
    {
     "data": {
      "text/plain": [
       "WindowsPath('C:/Users/5600x/Desktop/GWF/MESH-Scripts/Model_Workflow/vector_based_workflow/workflow_data/domain_BowAtBanff/visualizations')"
      ]
     },
     "execution_count": 8,
     "metadata": {},
     "output_type": "execute_result"
    }
   ],
   "source": [
    "outdir"
   ]
  },
  {
   "attachments": {},
   "cell_type": "markdown",
   "metadata": {},
   "source": [
    "Retrieve the visualization variables"
   ]
  },
  {
   "cell_type": "code",
   "execution_count": 9,
   "metadata": {},
   "outputs": [],
   "source": [
    "with open(make_default_path('vector_based_workflow/6_model_runs/outputs_balance.txt'),'r') as outputs_balance:\n",
    "    for i in outputs_balance:\n",
    "        if \"SOL\" in i and not '!' in i:\n",
    "            for j in range(1,3+1): # 1 to number of soil layers +1\n",
    "                layer = 'IG{}'.format(j)\n",
    "                variable = i.split(' ')[0]\n",
    "                state_name.append('{}_{}_GRD.nc'.format(variable,layer,mode_short))\n",
    "                var.append(variable)\n",
    "\n",
    "        elif not \"!\" in i:\n",
    "            variable = i.split(' ')[0]\n",
    "            state_name.append('{}_{}_GRD.nc'.format(variable,mode_short))\n",
    "            var.append(variable)"
   ]
  },
  {
   "attachments": {},
   "cell_type": "markdown",
   "metadata": {},
   "source": [
    "##### Specify the variables to be visualized"
   ]
  },
  {
   "cell_type": "code",
   "execution_count": 10,
   "metadata": {},
   "outputs": [],
   "source": [
    "state_name               = ['STGW_D_GRD.nc','SNO_D_GRD.nc', 'LQWSSNO_D_GRD.nc','LQWSPND_D_GRD.nc',\n",
    "                            'LQWSSOL_D_IG1_GRD.nc','LQWSSOL_D_IG2_GRD.nc','LQWSSOL_D_IG3_GRD.nc',\n",
    "                            'FZWSSOL_D_IG1_GRD.nc','FZWSSOL_D_IG2_GRD.nc','FZWSSOL_D_IG3_GRD.nc',\n",
    "                            'LQWSCAN_D_GRD.nc','FZWSCAN_D_GRD.nc',\n",
    "                            'STGGW_D_GRD.nc','RFF_D_GRD.nc']   \n",
    "var                      = ['STGW','SNO','LQWSSNO', 'LQWSPND',\n",
    "                            'LQWSSOL','LQWSSOL','LQWSSOL','FZWSSOL','FZWSSOL','FZWSSOL', \n",
    "                            'LQWSCAN', 'FZWSCAN',\n",
    "                            'STGGW','RFF']\n",
    "cbar_tl                  = ['Total Storage','Snow Mass [mm]', 'Liquid water content of the snow [mm]','Liquid water storage of ponded water [mm]',\n",
    "                            'Liquid water storage in the soil [mm]','Liquid water storage in the soil [mm]','Liquid water storage in the soil [mm]',\n",
    "                            'Frozen water storage in the soil [mm]','Frozen water storage in the soil [mm]','Frozen water storage in the soil [mm]',\n",
    "                            'Liquid water interception in the canopy [mm]', 'Frozen water interception in the canopy [mm]',\n",
    "                            'Groundwater zone storage [mm]','Total runoff [mm]']"
   ]
  },
  {
   "attachments": {},
   "cell_type": "markdown",
   "metadata": {},
   "source": [
    "##### Plot style"
   ]
  },
  {
   "cell_type": "code",
   "execution_count": 11,
   "metadata": {},
   "outputs": [],
   "source": [
    "cmaps = ['viridis','Blues_r', 'cividis', 'seismic_r']\n",
    "font = {'family' : 'Times New Roman',\n",
    "         'weight' : 'bold',\n",
    "         'size'   : 24}\n",
    "matplotlib.rc('font', **font)"
   ]
  },
  {
   "attachments": {},
   "cell_type": "markdown",
   "metadata": {},
   "source": [
    "##### Reading inputs"
   ]
  },
  {
   "cell_type": "code",
   "execution_count": 12,
   "metadata": {},
   "outputs": [],
   "source": [
    "db = xs.open_dataset(str(DDB_path) +'/'+ domainName+'_MESH_drainage_database.nc')\n",
    "db.close()"
   ]
  },
  {
   "attachments": {},
   "cell_type": "markdown",
   "metadata": {},
   "source": [
    "##### Extracting seg_ids"
   ]
  },
  {
   "cell_type": "code",
   "execution_count": 13,
   "metadata": {},
   "outputs": [],
   "source": [
    "segid       = db['seg_id'].values"
   ]
  },
  {
   "attachments": {},
   "cell_type": "markdown",
   "metadata": {},
   "source": [
    "##### Reading source shapefile"
   ]
  },
  {
   "cell_type": "code",
   "execution_count": 14,
   "metadata": {},
   "outputs": [],
   "source": [
    "shp = gpd.read_file(Merit_catchment_shape) \n",
    "shp = shp.sort_values(by=['COMID'])\n",
    "shp = shp.reset_index(drop=True)\n",
    "\n",
    "df          = pd.DataFrame()\n",
    "df['ID']    = segid\n",
    "filenames =[]"
   ]
  },
  {
   "attachments": {},
   "cell_type": "markdown",
   "metadata": {},
   "source": [
    "### Create plots"
   ]
  },
  {
   "cell_type": "code",
   "execution_count": 15,
   "metadata": {},
   "outputs": [],
   "source": [
    "N = len(var)\n",
    "for date in range(0,5): # Do for each day\n",
    "    for i in range(N): # Do for each variable\n",
    "        state = xs.open_dataset(MESH_state_dir/state_name[i])\n",
    "        state.close()\n",
    "        \n",
    "        subbasins = int(state.dims['lat'])\n",
    "        state_var = []\n",
    "        for j in range(0,subbasins): # Do for each subbasin\n",
    "            # check condition for soil layers \n",
    "            if 'IG1' in state_name[i]:\n",
    "                ly = 'Layer1'\n",
    "            elif 'IG2' in state_name[i]:\n",
    "                ly = 'Layer2'\n",
    "            elif 'IG3' in state_name[i]:\n",
    "                ly = 'Layer3'\n",
    "            else:\n",
    "                ly = []\n",
    "            value = state[var[i]][date][0][j].values\n",
    "            state_var.append(float(value))\n",
    "\n",
    "            #% visualize MESH output\n",
    "        fig, ax = plt.subplots(figsize=(20, 20))\n",
    "        df['value'] = state_var # diplay first monthly data for    \n",
    "        df = df.sort_values(by=['ID'])\n",
    "        df = df.reset_index(drop=True)\n",
    "\n",
    "        shp ['value'] = df ['value']\n",
    "        mn = np.min(shp ['value'])    \n",
    "        mx = np.max(shp ['value'])\n",
    "\n",
    "\n",
    "        if (len(ly) != 0):\n",
    "            tl = 'BowBanff'+'_MESH_'+var[i]+'_'+ly+'_'+str(state[var[i]][date]['time'].values).split('T')[0]\n",
    "        else:\n",
    "            tl = 'BowBanff'+'_MESH_'+var[i]+'_'+str(state[var[i]][date]['time'].values).split('T')[0]\n",
    "\n",
    "        ax.set_title(tl)\n",
    "        ax.set_xlabel('Longitude [degree east]')\n",
    "        ax.set_ylabel('Latitude [degree north]')\n",
    "\n",
    "        # create the colorbar\n",
    "        norm = colors.Normalize(vmin=mn,vmax=mx)            \n",
    "\n",
    "        # NB: when the mn and mx are equal (e.g., mn = mx = 0), the normalization is not required \n",
    "        if (mn != mx):\n",
    "            cbar = plt.cm.ScalarMappable(norm=norm, cmap=cmaps[0])\n",
    "        else:\n",
    "            cbar = plt.cm.ScalarMappable(cmap=cmaps[0])\n",
    "\n",
    "        shp.plot(column='value', cmap=cmaps[0], edgecolor='k',linewidth=0.1,ax = ax, vmin = mn, vmax = mx)\n",
    "        # add colorbar and its label\n",
    "        ax_cbar = fig.colorbar(cbar, ax=ax, extend='max') \n",
    "        cbar.set_clim(0,22) \n",
    "        ax_cbar.set_label(cbar_tl[i])\n",
    "\n",
    "        if not os.path.exists(outdir/var[i]):\n",
    "            os.mkdir(outdir/var[i])\n",
    "        #plt.clim(0,24)\n",
    "        plt.savefig(outdir/var[i]/'{}_{}_state.png'.format(tl,mode), format='png', dpi=100)\n",
    "        plt.close()\n",
    "        \n",
    "        filenames.append('{}_{}_state.png'.format(tl,mode))"
   ]
  }
 ],
 "metadata": {
  "kernelspec": {
   "display_name": "Python 3",
   "language": "python",
   "name": "python3"
  },
  "language_info": {
   "codemirror_mode": {
    "name": "ipython",
    "version": 3
   },
   "file_extension": ".py",
   "mimetype": "text/x-python",
   "name": "python",
   "nbconvert_exporter": "python",
   "pygments_lexer": "ipython3",
   "version": "3.9.13"
  },
  "orig_nbformat": 4,
  "vscode": {
   "interpreter": {
    "hash": "9b271b39875848de38483eb62c29138594d92c4575023a90ae6ab83d843ef02c"
   }
  }
 },
 "nbformat": 4,
 "nbformat_minor": 2
}
