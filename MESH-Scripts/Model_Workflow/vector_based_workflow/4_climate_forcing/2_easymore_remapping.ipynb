{
 "cells": [
  {
   "attachments": {},
   "cell_type": "markdown",
   "metadata": {},
   "source": [
    "# EASYMORE Basin Subset\n",
    "EASYMORE: EArth SYstem MOdeling REmapper is a collection of functions that allows extraction of the data from a NetCDF file for a given shapefile such as a basin, catchment, points or lines. It can map gridded data or model output to any given shapefile and provide area average for a target variable.\n",
    "https://github.com/ShervanGharari/EASYMORE\n",
    "\n",
    "## Climate Forcing Remapping\n",
    "This script will map the gridded forcing data, specified in control_active.txt to the subasins contained within the basin shapefile used to produce the drainage database."
   ]
  },
  {
   "cell_type": "markdown",
   "metadata": {},
   "source": [
    "### Loading Modules"
   ]
  },
  {
   "cell_type": "code",
   "execution_count": 1,
   "metadata": {},
   "outputs": [],
   "source": [
    "from easymore.easymore import easymore\n",
    "from pathlib import Path\n",
    "from shutil import copyfile\n",
    "from datetime import datetime"
   ]
  },
  {
   "attachments": {},
   "cell_type": "markdown",
   "metadata": {},
   "source": [
    "### Control File Handling\n",
    "The purpose of the control file is to provide all inputs to the scripts in the vector-based workflow to eliminate the need to alter the workflow scripts themselves. The following cells will retrieve settings from 'control_active.txt' and provide them as inputs to this script."
   ]
  },
  {
   "attachments": {},
   "cell_type": "markdown",
   "metadata": {},
   "source": [
    "##### Access to the control file folder"
   ]
  },
  {
   "cell_type": "code",
   "execution_count": 2,
   "metadata": {},
   "outputs": [],
   "source": [
    "controlFolder = Path('../0_control_files')"
   ]
  },
  {
   "attachments": {},
   "cell_type": "markdown",
   "metadata": {},
   "source": [
    "##### Store the name of the 'active' file in a variable"
   ]
  },
  {
   "cell_type": "code",
   "execution_count": 3,
   "metadata": {},
   "outputs": [],
   "source": [
    "controlFile = 'control_active.txt'"
   ]
  },
  {
   "attachments": {},
   "cell_type": "markdown",
   "metadata": {},
   "source": [
    "##### Function to extract a given setting from the control file"
   ]
  },
  {
   "cell_type": "code",
   "execution_count": 4,
   "metadata": {},
   "outputs": [],
   "source": [
    "def read_from_control( file, setting ):\n",
    "     \n",
    "    # Open 'control_active.txt' and ...\n",
    "    with open(file) as contents:\n",
    "        for line in contents:\n",
    "             \n",
    "            # ... find the line with the requested setting\n",
    "            if setting in line and not line.startswith('#'):\n",
    "                break\n",
    "     \n",
    "    # Extract the setting's value\n",
    "    substring = line.split('|',1)[1]      # Remove the setting's name (split into 2 based on '|', keep only 2nd part)\n",
    "    substring = substring.split('#',1)[0] # Remove comments, does nothing if no '#' is found\n",
    "    substring = substring.strip()         # Remove leading and trailing whitespace, tabs, newlines\n",
    "        \n",
    "    # Return this value   \n",
    "    return substring"
   ]
  },
  {
   "attachments": {},
   "cell_type": "markdown",
   "metadata": {},
   "source": [
    "##### Function to specify a default path"
   ]
  },
  {
   "cell_type": "code",
   "execution_count": 5,
   "metadata": {},
   "outputs": [],
   "source": [
    "def make_default_path(suffix):\n",
    "     \n",
    "    # Get the root path\n",
    "    rootPath = Path( read_from_control(controlFolder/controlFile,'root_path') )\n",
    "     \n",
    "    # Specify the forcing path\n",
    "    #defaultPath = rootPath / domainFolder / suffix\n",
    "    defaultPath = rootPath / suffix \n",
    "    return defaultPath"
   ]
  },
  {
   "attachments": {},
   "cell_type": "markdown",
   "metadata": {},
   "source": [
    "##### Get the domain folder"
   ]
  },
  {
   "cell_type": "code",
   "execution_count": 6,
   "metadata": {},
   "outputs": [],
   "source": [
    "domain_name = read_from_control(controlFolder/controlFile,'domain_name')\n",
    "domainFolder = 'domain_' + domain_name"
   ]
  },
  {
   "attachments": {},
   "cell_type": "markdown",
   "metadata": {},
   "source": [
    "##### Get the target shapefile"
   ]
  },
  {
   "cell_type": "code",
   "execution_count": 7,
   "metadata": {},
   "outputs": [],
   "source": [
    "target_shp_path = read_from_control(controlFolder/controlFile,'river_basin_shp_path')\n",
    "# Specify default path if needed\n",
    "if target_shp_path == 'default':\n",
    "    target_shp_path = make_default_path('shapefiles/catchment/') # outputs a Path()\n",
    "else:\n",
    "    target_shp_path = Path(target_shp_path) # make sure a user-specified path is a Path()\n",
    "target_shp_name = read_from_control(controlFolder/controlFile,'river_basin_shp_name')\n",
    "target_shp      = target_shp_path / target_shp_name\n",
    "target_shp_ID   = read_from_control(controlFolder/controlFile,'river_basin_shp_rm_hruid')"
   ]
  },
  {
   "attachments": {},
   "cell_type": "markdown",
   "metadata": {},
   "source": [
    "##### Get the source forcing file"
   ]
  },
  {
   "cell_type": "code",
   "execution_count": 8,
   "metadata": {},
   "outputs": [],
   "source": [
    "source_nc_path  = read_from_control(controlFolder/controlFile,'source_nc_path')\n",
    "# Specify default path if needed\n",
    "if source_nc_path == 'default':\n",
    "    source_nc_path = make_default_path('forcing') # outputs a Path()\n",
    "else:\n",
    "    source_nc_path = Path(source_nc_path) # make sure a user-specified path is a Path()\n",
    "source_nc_name  = read_from_control(controlFolder/controlFile,'source_nc_name')\n",
    "source_nc     = str(source_nc_path / source_nc_name)"
   ]
  },
  {
   "attachments": {},
   "cell_type": "markdown",
   "metadata": {},
   "source": [
    "##### Get the output location"
   ]
  },
  {
   "cell_type": "code",
   "execution_count": 9,
   "metadata": {},
   "outputs": [],
   "source": [
    "outdir = read_from_control(controlFolder/controlFile,'remapping_out')\n",
    "if outdir == 'default':\n",
    "    outdir = str(make_default_path('forcing/'))+'/' # outputs a Path()\n",
    "else:\n",
    "    outdir = outdir # make sure a user-specified path is a Path()"
   ]
  },
  {
   "attachments": {},
   "cell_type": "markdown",
   "metadata": {},
   "source": [
    "##### Get the list of variable names"
   ]
  },
  {
   "cell_type": "code",
   "execution_count": 10,
   "metadata": {},
   "outputs": [],
   "source": [
    "var_names       = read_from_control(controlFolder/controlFile,'var_names').split(', ')"
   ]
  },
  {
   "attachments": {},
   "cell_type": "markdown",
   "metadata": {},
   "source": [
    "##### Get the forcing dataset name"
   ]
  },
  {
   "cell_type": "code",
   "execution_count": 11,
   "metadata": {},
   "outputs": [],
   "source": [
    "forcing_dataset = read_from_control(controlFolder/controlFile,'forcing_dataset')"
   ]
  },
  {
   "attachments": {},
   "cell_type": "markdown",
   "metadata": {},
   "source": [
    "### Starting EASYMORE"
   ]
  },
  {
   "attachments": {},
   "cell_type": "markdown",
   "metadata": {},
   "source": [
    "##### Initializing EASYMORE object"
   ]
  },
  {
   "cell_type": "code",
   "execution_count": 12,
   "metadata": {},
   "outputs": [
    {
     "name": "stdout",
     "output_type": "stream",
     "text": [
      "EASYMORE version 0.0.4 is initiated.\n"
     ]
    }
   ],
   "source": [
    "esmr = easymore()"
   ]
  },
  {
   "attachments": {},
   "cell_type": "markdown",
   "metadata": {},
   "source": [
    "##### Specifying EASYMORE objects"
   ]
  },
  {
   "cell_type": "code",
   "execution_count": 13,
   "metadata": {},
   "outputs": [],
   "source": [
    "# name of the case; the temporary, remapping and remapped file names include case name\n",
    "esmr.case_name                = '{}_{}'.format(forcing_dataset,domain_name)\n",
    "# temporary path that the EASYMORE generated GIS files and remapped file will be saved\n",
    "esmr.temp_dir                 = '{}/temporary{}/'.format(source_nc_path,domain_name)\n",
    "# name of target shapefile that the source netcdf files should be remapped to\n",
    "esmr.target_shp               = target_shp\n",
    "esmr.target_shp_ID            = target_shp_ID\n",
    "# name of netCDF file(s); multiple files can be specified with *\n",
    "esmr.source_nc                = source_nc \n",
    "# name of variables from source netCDF file(s) to be remapped\n",
    "esmr.var_names                = var_names\n",
    "# rename the variables from source netCDF file(s) in the remapped files;\n",
    "# it will be the same as source if not provided\n",
    "#esmr.var_names_remapped       = ['RDRS']\n",
    "# name of variable longitude in source netCDF files\n",
    "esmr.var_lon                  =  read_from_control(controlFolder/controlFile,'var_lon')\n",
    "# name of variable latitude in source netCDF files\n",
    "esmr.var_lat                  = read_from_control(controlFolder/controlFile,'var_lat')\n",
    "# name of variable time in source netCDF file; should be always time\n",
    "esmr.var_time                 = read_from_control(controlFolder/controlFile,'var_time')\n",
    "# location where the remapped netCDF file will be saved\n",
    "esmr.output_dir               = outdir\n",
    "# format of the variables to be saved in remapped files,\n",
    "# if one format provided it will be expanded to other variables\n",
    "esmr.format_list              = read_from_control(controlFolder/controlFile,'format_list').split(', ')\n",
    "# fill values of the variables to be saved in remapped files,\n",
    "# if one value provided it will be expanded to other variables\n",
    "esmr.fill_value_list          = read_from_control(controlFolder/controlFile,'fill_value_list').split(', ')\n",
    "\n",
    "\n",
    "# if required that the remapped values to be saved as csv as well\n",
    "#esmr.save_csv                 = True\n",
    "#esmr.complevel                 =  9\n",
    "# if uncommented EASYMORE will use this and skip GIS tasks\n",
    "#esmr.remap_csv                = 'temporary78/subbasin_select/RDRS_78_remapping.csv' # RDRS_81_remapping.csv\n"
   ]
  },
  {
   "attachments": {},
   "cell_type": "markdown",
   "metadata": {},
   "source": [
    "##### Create source shapefile"
   ]
  },
  {
   "cell_type": "code",
   "execution_count": 14,
   "metadata": {},
   "outputs": [
    {
     "name": "stdout",
     "output_type": "stream",
     "text": [
      "EASYMORE detects case 2 - rotated lat/lon\n",
      "EASYMORE is creating the shapefile from the netCDF file and saving it here:\n",
      "C:\\Users\\5600x\\Desktop\\GWF\\MESH-Scripts\\Model_Workflow\\forcing/temporaryBowAtBanff/RDRS_BowAtBanff_source_shapefile.shp\n"
     ]
    },
    {
     "name": "stderr",
     "output_type": "stream",
     "text": [
      "c:\\Users\\5600x\\anaconda3\\envs\\easymore\\lib\\site-packages\\geopandas\\io\\file.py:299: FutureWarning: pandas.Int64Index is deprecated and will be removed from pandas in a future version. Use pandas.Index with the appropriate dtype instead.\n",
      "  pd.Int64Index,\n"
     ]
    }
   ],
   "source": [
    "import geopandas as gpd\n",
    "esmr.NetCDF_SHP_lat_lon()\n",
    "# create the source shapefile for case 1 and 2 if shapefile is not provided\n",
    "if (esmr.case == 1 or esmr.case == 2)  and (esmr.source_shp == ''):\n",
    "    if esmr.case == 1:\n",
    "        if hasattr(esmr, 'lat_expanded') and hasattr(esmr, 'lon_expanded'):\n",
    "            esmr.lat_lon_SHP(esmr.lat_expanded, esmr.lon_expanded,\\\n",
    "                esmr.temp_dir+esmr.case_name+'_source_shapefile.shp')\n",
    "        else:\n",
    "            esmr.lat_lon_SHP(esmr.lat, esmr.lon,\\\n",
    "                esmr.temp_dir+esmr.case_name+'_source_shapefile.shp')\n",
    "    else:\n",
    "        esmr.lat_lon_SHP(esmr.lat, esmr.lon,\\\n",
    "            esmr.temp_dir+esmr.case_name+'_source_shapefile.shp')\n",
    "    print('EASYMORE is creating the shapefile from the netCDF file and saving it here:')\n",
    "    print(esmr.temp_dir+esmr.case_name+'_source_shapefile.shp')\n",
    "\n",
    "shp = gpd.read_file(esmr.temp_dir+esmr.case_name+'_source_shapefile.shp')\n",
    "shp = shp [shp['lon_s']>-179]\n",
    "shp.to_file(esmr.temp_dir+esmr.case_name+'_source_shapefile.shp')\n",
    "\n",
    "# add the source shapefile \n",
    "esmr.source_shp                =   esmr.temp_dir+esmr.case_name+'_source_shapefile.shp'\n",
    "esmr.source_shp_lat            =  'lat_s' # name of column latitude in the source shapefile\n",
    "esmr.source_shp_lon            =  'lon_s' # name of column longitude in the source shapefile\n",
    "esmr.source_shp_ID             =  'ID_s' # name of column ID in the source shapefile"
   ]
  },
  {
   "attachments": {},
   "cell_type": "markdown",
   "metadata": {},
   "source": [
    "### Execute EASYMORE"
   ]
  },
  {
   "cell_type": "code",
   "execution_count": 15,
   "metadata": {},
   "outputs": [
    {
     "name": "stdout",
     "output_type": "stream",
     "text": [
      "no author name is provide and the author name is changed to (author name)!\n",
      "EASYMORE is given multiple varibales to be remapped but only on format and fill valueEASYMORE repeat the format and fill value for all the variables in output files\n",
      "EASYMORE will remap variable  RDRS_v2.1_A_PR0_SFC  from source file to variable  RDRS_v2.1_A_PR0_SFC  in remapped NeCDF file\n",
      "EASYMORE will remap variable  RDRS_v2.1_P_FI_SFC  from source file to variable  RDRS_v2.1_P_FI_SFC  in remapped NeCDF file\n",
      "EASYMORE will remap variable  RDRS_v2.1_P_FB_SFC  from source file to variable  RDRS_v2.1_P_FB_SFC  in remapped NeCDF file\n",
      "EASYMORE will remap variable  RDRS_v2.1_P_TT_09944  from source file to variable  RDRS_v2.1_P_TT_09944  in remapped NeCDF file\n",
      "EASYMORE will remap variable  RDRS_v2.1_P_UVC_09944  from source file to variable  RDRS_v2.1_P_UVC_09944  in remapped NeCDF file\n",
      "EASYMORE will remap variable  RDRS_v2.1_P_P0_SFC  from source file to variable  RDRS_v2.1_P_P0_SFC  in remapped NeCDF file\n",
      "EASYMORE will remap variable  RDRS_v2.1_P_HU_09944  from source file to variable  RDRS_v2.1_P_HU_09944  in remapped NeCDF file\n",
      "EASYMORE detects that target shapefile is in WGS84 (epsg:4326)\n",
      "EASYMORE detects that the field for ID is provided in sink/target shapefile\n",
      "EASYMORE detects that either of the fields for latitude or longitude is not provided in sink/target shapefile\n",
      "calculating centroid of shapes in WGS84 projection;\n",
      "for better appximation use the easymore equal area centroid function to preprocess target shapefile\n",
      "EASYMORE detects that no field for latitude is provided in sink/target shapefile\n",
      "latitude values are added in the field lat_t\n",
      "EASYMORE detects that no field for longitude is provided in sink/target shapefile\n",
      "longitude values are added in the field lon_t\n",
      "it seems everything is OK with the sink/target shapefile; added to EASYMORE object target_shp_gpd\n",
      "EASYMORE will save standard shapefile for EASYMORE claculation as:\n",
      "C:\\Users\\5600x\\Desktop\\GWF\\MESH-Scripts\\Model_Workflow\\forcing/temporaryBowAtBanff/RDRS_BowAtBanff_target_shapefile.shp\n",
      "EASYMORE detects that the varibales from the netCDF files are identicalin dimensions of the varibales and latitude and longitude\n",
      "EASYMORE detects that all the varibales have dimensions of:\n",
      "['time', 'rlat', 'rlon']\n",
      "EASYMORE detects that the longitude varibales has dimensions of:\n",
      "['rlat', 'rlon']\n",
      "EASYMORE detects that the latitude varibales has dimensions of:\n",
      "['rlat', 'rlon']\n",
      "EASYMORE detects case 2 - rotated lat/lon\n"
     ]
    },
    {
     "name": "stderr",
     "output_type": "stream",
     "text": [
      "c:\\Users\\5600x\\anaconda3\\envs\\easymore\\lib\\site-packages\\geopandas\\io\\file.py:299: FutureWarning: pandas.Int64Index is deprecated and will be removed from pandas in a future version. Use pandas.Index with the appropriate dtype instead.\n",
      "  pd.Int64Index,\n",
      "c:\\Users\\5600x\\anaconda3\\envs\\easymore\\lib\\site-packages\\geopandas\\io\\file.py:323: DeprecationWarning: distutils Version classes are deprecated. Use packaging.version instead.\n",
      "  if LooseVersion(gdal_version) >= LooseVersion(\"3.0.0\") and crs:\n",
      "c:\\Users\\5600x\\anaconda3\\envs\\easymore\\lib\\site-packages\\geopandas\\io\\file.py:299: FutureWarning: pandas.Int64Index is deprecated and will be removed from pandas in a future version. Use pandas.Index with the appropriate dtype instead.\n",
      "  pd.Int64Index,\n",
      "c:\\Users\\5600x\\anaconda3\\envs\\easymore\\lib\\site-packages\\geopandas\\io\\file.py:323: DeprecationWarning: distutils Version classes are deprecated. Use packaging.version instead.\n",
      "  if LooseVersion(gdal_version) >= LooseVersion(\"3.0.0\") and crs:\n"
     ]
    },
    {
     "name": "stdout",
     "output_type": "stream",
     "text": [
      "EASYMORE detect the shapefile is provided and will resave it here:\n",
      "C:\\Users\\5600x\\Desktop\\GWF\\MESH-Scripts\\Model_Workflow\\forcing/temporaryBowAtBanff/RDRS_BowAtBanff_source_shapefile.shp\n",
      "EASYMORE detects that shapefile longitude is between -180 and 180, no correction is performed\n",
      "inside shp_lon_correction, no crs is provided for the shapefile; EASYMORE will allocate WGS84 to correct for lon above 180\n",
      "EASYMORE detects that shapefile longitude is between -180 and 180, no correction is performed\n"
     ]
    },
    {
     "name": "stderr",
     "output_type": "stream",
     "text": [
      "c:\\Users\\5600x\\anaconda3\\envs\\easymore\\lib\\site-packages\\geopandas\\io\\file.py:299: FutureWarning: pandas.Int64Index is deprecated and will be removed from pandas in a future version. Use pandas.Index with the appropriate dtype instead.\n",
      "  pd.Int64Index,\n",
      "c:\\Users\\5600x\\anaconda3\\envs\\easymore\\lib\\site-packages\\geopandas\\io\\file.py:323: DeprecationWarning: distutils Version classes are deprecated. Use packaging.version instead.\n",
      "  if LooseVersion(gdal_version) >= LooseVersion(\"3.0.0\") and crs:\n",
      "c:\\Users\\5600x\\anaconda3\\envs\\easymore\\lib\\site-packages\\geopandas\\io\\file.py:299: FutureWarning: pandas.Int64Index is deprecated and will be removed from pandas in a future version. Use pandas.Index with the appropriate dtype instead.\n",
      "  pd.Int64Index,\n",
      "c:\\Users\\5600x\\anaconda3\\envs\\easymore\\lib\\site-packages\\geopandas\\io\\file.py:323: DeprecationWarning: distutils Version classes are deprecated. Use packaging.version instead.\n",
      "  if LooseVersion(gdal_version) >= LooseVersion(\"3.0.0\") and crs:\n",
      "c:\\Users\\5600x\\anaconda3\\envs\\easymore\\lib\\site-packages\\geopandas\\io\\file.py:299: FutureWarning: pandas.Int64Index is deprecated and will be removed from pandas in a future version. Use pandas.Index with the appropriate dtype instead.\n",
      "  pd.Int64Index,\n",
      "c:\\Users\\5600x\\anaconda3\\envs\\easymore\\lib\\site-packages\\geopandas\\io\\file.py:323: DeprecationWarning: distutils Version classes are deprecated. Use packaging.version instead.\n",
      "  if LooseVersion(gdal_version) >= LooseVersion(\"3.0.0\") and crs:\n",
      "c:\\Users\\5600x\\anaconda3\\envs\\easymore\\lib\\site-packages\\geopandas\\io\\file.py:299: FutureWarning: pandas.Int64Index is deprecated and will be removed from pandas in a future version. Use pandas.Index with the appropriate dtype instead.\n",
      "  pd.Int64Index,\n",
      "c:\\Users\\5600x\\anaconda3\\envs\\easymore\\lib\\site-packages\\geopandas\\io\\file.py:323: DeprecationWarning: distutils Version classes are deprecated. Use packaging.version instead.\n",
      "  if LooseVersion(gdal_version) >= LooseVersion(\"3.0.0\") and crs:\n",
      "c:\\Users\\5600x\\anaconda3\\envs\\easymore\\lib\\site-packages\\pandas\\core\\dtypes\\cast.py:1983: ShapelyDeprecationWarning: __len__ for multi-part geometries is deprecated and will be removed in Shapely 2.0. Check the length of the `geoms` property instead to get the  number of parts of a multi-part geometry.\n",
      "  result[:] = values\n",
      "c:\\Users\\5600x\\anaconda3\\envs\\easymore\\lib\\site-packages\\geopandas\\io\\file.py:299: FutureWarning: pandas.Int64Index is deprecated and will be removed from pandas in a future version. Use pandas.Index with the appropriate dtype instead.\n",
      "  pd.Int64Index,\n",
      "c:\\Users\\5600x\\anaconda3\\envs\\easymore\\lib\\site-packages\\easymore\\easymore.py:138: UserWarning: Column names longer than 10 characters will be truncated when saved to ESRI Shapefile.\n",
      "  shp_int.to_file(self.temp_dir+self.case_name+'_intersected_shapefile.shp') # save the intersected files\n",
      "c:\\Users\\5600x\\anaconda3\\envs\\easymore\\lib\\site-packages\\geopandas\\io\\file.py:323: DeprecationWarning: distutils Version classes are deprecated. Use packaging.version instead.\n",
      "  if LooseVersion(gdal_version) >= LooseVersion(\"3.0.0\") and crs:\n"
     ]
    },
    {
     "name": "stdout",
     "output_type": "stream",
     "text": [
      "------REMAPPING------\n",
      "netcdf output file will be compressed at level 4\n",
      "Remapping C:\\Users\\5600x\\Desktop\\GWF\\MESH-Scripts\\Model_Workflow\\forcing\\rdrsv2.1_1980-01-0107.nc to C:\\Users\\5600x\\Desktop\\GWF\\MESH-Scripts\\Model_Workflow\\forcing/RDRS_BowAtBanff_remapped_1980-01-01-13-00-00.nc\n",
      "Started at date and time 2023-01-26 15:14:57.901033\n",
      "Ended   at date and time 2023-01-26 15:15:00.953962\n",
      "------\n"
     ]
    }
   ],
   "source": [
    "esmr.nc_remapper()"
   ]
  },
  {
   "attachments": {},
   "cell_type": "markdown",
   "metadata": {},
   "source": [
    "### Code provenance\n",
    "Generates a basic log file in the domain folder and copies the control file and itself there.\n"
   ]
  },
  {
   "cell_type": "code",
   "execution_count": 16,
   "metadata": {},
   "outputs": [],
   "source": [
    "# Set the log path and file name\n",
    "logPath = Path(outdir)\n",
    "log_suffix = '_easymore_remapping.txt'\n",
    " \n",
    "# Create a log folder\n",
    "logFolder = '_workflow_log'\n",
    "Path( logPath / logFolder ).mkdir(parents=True, exist_ok=True)\n",
    " \n",
    "# Copy this script\n",
    "thisFile = '2_easymore_remapping.ipynb'\n",
    "copyfile(thisFile, logPath / logFolder / thisFile);\n",
    " \n",
    "# Get current date and time\n",
    "now = datetime.now()\n",
    " \n",
    "# Create a log file\n",
    "logFile = now.strftime('%Y%m%d') + log_suffix\n",
    "with open( logPath / logFolder / logFile, 'w') as file:\n",
    "     \n",
    "    lines = ['Log generated by ' + thisFile + ' on ' + now.strftime('%Y/%m/%d %H:%M:%S') + '\\n',\n",
    "             'Generated remapped climate forcing .nc file.']\n",
    "    for txt in lines:\n",
    "        file.write(txt)"
   ]
  }
 ],
 "metadata": {
  "kernelspec": {
   "display_name": "Python 3",
   "language": "python",
   "name": "python3"
  },
  "language_info": {
   "codemirror_mode": {
    "name": "ipython",
    "version": 3
   },
   "file_extension": ".py",
   "mimetype": "text/x-python",
   "name": "python",
   "nbconvert_exporter": "python",
   "pygments_lexer": "ipython3",
   "version": "3.9.13"
  },
  "orig_nbformat": 4,
  "vscode": {
   "interpreter": {
    "hash": "9b271b39875848de38483eb62c29138594d92c4575023a90ae6ab83d843ef02c"
   }
  }
 },
 "nbformat": 4,
 "nbformat_minor": 2
}
